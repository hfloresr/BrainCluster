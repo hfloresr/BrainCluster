{
 "cells": [
  {
   "cell_type": "code",
   "execution_count": 1,
   "metadata": {
    "collapsed": true
   },
   "outputs": [],
   "source": [
    "%matplotlib inline"
   ]
  },
  {
   "cell_type": "code",
   "execution_count": 2,
   "metadata": {
    "collapsed": true
   },
   "outputs": [],
   "source": [
    "import numpy as np\n",
    "from sklearn import preprocessing\n",
    "from scipy.io import loadmat\n",
    "from scipy.cluster.hierarchy import dendrogram, linkage\n",
    "from scipy.cluster.hierarchy import fcluster\n",
    "\n",
    "\n",
    "import matplotlib.pyplot as plt\n",
    "import seaborn as sns"
   ]
  },
  {
   "cell_type": "code",
   "execution_count": 3,
   "metadata": {
    "collapsed": true
   },
   "outputs": [],
   "source": [
    "# Read lfp data\n",
    "data = loadmat('../data/F141020-lfp-5min-1kHz.mat')\n",
    "\n",
    "# Extract pre_pmcao\n",
    "Z_pre = data['pre_pmcao']\n",
    "\n",
    "# Remove bad channels\n",
    "bad_channels = np.array([5, 8, 9, 12, 16, 26])\n",
    "Z_pre = np.delete(Z_pre, bad_channels, axis=1)"
   ]
  },
  {
   "cell_type": "code",
   "execution_count": 4,
   "metadata": {},
   "outputs": [
    {
     "data": {
      "text/plain": [
       "(300000, 26)"
      ]
     },
     "execution_count": 4,
     "metadata": {},
     "output_type": "execute_result"
    }
   ],
   "source": [
    "Z_pre.shape"
   ]
  },
  {
   "cell_type": "code",
   "execution_count": 5,
   "metadata": {
    "collapsed": true
   },
   "outputs": [],
   "source": [
    "# Standardize Z_pre to 0 mean and unit standard dev\n",
    "num_epochs = 300\n",
    "rate = 1000\n",
    "for i in range(num_epochs):\n",
    "    ioffset = i * rate\n",
    "    preprocessing.scale(Z_pre[ioffset:ioffset+rate,], copy=False)"
   ]
  },
  {
   "cell_type": "code",
   "execution_count": 6,
   "metadata": {},
   "outputs": [
    {
     "data": {
      "image/png": "[encoded data removed]",
      "text/plain": [
       "<matplotlib.figure.Figure at 0x7efeb5e2cc18>"
      ]
     },
     "metadata": {},
     "output_type": "display_data"
    }
   ],
   "source": [
    "fig, ax = plt.subplots()\n",
    "ax.grid(False)\n",
    "i = 0  # epoch 1\n",
    "ioffset = i * rate  # offset for sampling rate (1000 pts per epoch)\n",
    "Z_clust = linkage(Z_pre[ioffset:ioffset+rate,].T, 'complete', 'correlation')  # Agglomerative clustering w/ complete linkage\n",
    "labels = [i for i in range(1, 33) if i not in bad_channels+1]  # Create labels for channels 1-32 (excluding bad channels)\n",
    "dend = dendrogram(Z_clust, color_threshold=1, labels=labels)  # Create dendogram"
   ]
  },
  {
   "cell_type": "code",
   "execution_count": 7,
   "metadata": {
    "collapsed": true
   },
   "outputs": [],
   "source": [
    "y = [1, 2, 3, 4] * 8\n",
    "x = [1]*4 + [2]*4 + [3]*4 + [4]*4 + [5]*4 + [6]*4 + [7]*4 + [8]*4\n",
    "#ch_labels = [j for i in range(1, 9) for j in range(i*4, 4*(i-1), -1)]\n",
    "ch_labels = [i for i in range(1, 33)]"
   ]
  },
  {
   "cell_type": "code",
   "execution_count": 8,
   "metadata": {},
   "outputs": [
    {
     "data": {
      "image/png": "[encoded data removed]",
      "text/plain": [
       "<matplotlib.figure.Figure at 0x7efea5c71d30>"
      ]
     },
     "metadata": {},
     "output_type": "display_data"
    }
   ],
   "source": [
    "fig, ax = plt.subplots()\n",
    "ax.grid(False)\n",
    "ax.set_xticks([])\n",
    "ax.set_yticks([])\n",
    "ax.scatter(x, y)\n",
    "\n",
    "for i, txt in enumerate(ch_labels):\n",
    "    ax.annotate(txt, (x[i],y[i]))"
   ]
  },
  {
   "cell_type": "code",
   "execution_count": 9,
   "metadata": {},
   "outputs": [
    {
     "data": {
      "text/plain": [
       "array([1, 1, 4, 3, 1, 3, 3, 3, 3, 1, 3, 3, 1, 2, 2, 1, 1, 2, 2, 1, 1, 4, 1,\n",
       "       1, 4, 4], dtype=int32)"
      ]
     },
     "execution_count": 9,
     "metadata": {},
     "output_type": "execute_result"
    }
   ],
   "source": [
    "k = 4\n",
    "clusters = fcluster(Z_clust, k, criterion='maxclust')\n",
    "clusters"
   ]
  },
  {
   "cell_type": "code",
   "execution_count": 10,
   "metadata": {
    "collapsed": true
   },
   "outputs": [],
   "source": [
    "# TODO: Refactor!\n",
    "clusters2 = np.zeros(32)\n",
    "j = 0\n",
    "for i in range(32):\n",
    "    if i not in bad_channels:\n",
    "        clusters2[i] = clusters[j]\n",
    "        j += 1"
   ]
  },
  {
   "cell_type": "code",
   "execution_count": 11,
   "metadata": {},
   "outputs": [
    {
     "data": {
      "text/plain": [
       "array([ 1.,  1.,  4.,  3.,  1.,  0.,  3.,  3.,  0.,  0.,  3.,  3.,  0.,\n",
       "        1.,  3.,  3.,  0.,  1.,  2.,  2.,  1.,  1.,  2.,  2.,  1.,  1.,\n",
       "        0.,  4.,  1.,  1.,  4.,  4.])"
      ]
     },
     "execution_count": 11,
     "metadata": {},
     "output_type": "execute_result"
    }
   ],
   "source": [
    "clusters2"
   ]
  },
  {
   "cell_type": "code",
   "execution_count": 19,
   "metadata": {},
   "outputs": [
    {
     "data": {
      "text/plain": [
       "<matplotlib.text.Text at 0x7efe9c608908>"
      ]
     },
     "execution_count": 19,
     "metadata": {},
     "output_type": "execute_result"
    },
    {
     "data": {
      "image/png": "[encoded data removed]",
      "text/plain": [
       "<matplotlib.figure.Figure at 0x7efe9cd30978>"
      ]
     },
     "metadata": {},
     "output_type": "display_data"
    }
   ],
   "source": [
    "title_font = {'fontname':'DejaVu Sans', 'size':'16', 'color':'black', 'weight':'bold'}\n",
    "\n",
    "fig, ax = plt.subplots(figsize=(10, 6))\n",
    "ax.grid(False)\n",
    "ax.set_xticks([])\n",
    "ax.set_yticks([])\n",
    "\n",
    "cmap = plt.cm.hsv_r\n",
    "ss = [x*100 if x == 0  else 100 for x in clusters2 ]\n",
    "ax.scatter(x, y, c=clusters2, s=ss, cmap=cmap)\n",
    "\n",
    "for i, txt in enumerate(ch_labels):\n",
    "    ax.annotate(txt, (x[i],y[i]))\n",
    "ax.set_title('Epoch 1', **title_font)"
   ]
  },
  {
   "cell_type": "code",
   "execution_count": null,
   "metadata": {},
   "outputs": [],
   "source": []
  },
  {
   "cell_type": "code",
   "execution_count": 13,
   "metadata": {
    "collapsed": true
   },
   "outputs": [],
   "source": [
    "my_clusters = []\n",
    "\n",
    "num_epochs = 300\n",
    "rate = 1000\n",
    "for i in range(num_epochs):\n",
    "    ioffset = i * rate\n",
    "    Z_clust = linkage(Z_pre[ioffset:ioffset+rate,].T, 'complete', 'correlation')\n",
    "    \n",
    "    k = 4  # number of clusters\n",
    "    clusters = fcluster(Z_clust, k, criterion='maxclust')\n",
    "    \n",
    "    clusters2 = np.zeros(32)\n",
    "    j = 0\n",
    "    for i in range(32):\n",
    "        if i not in bad_channels:\n",
    "            clusters2[i] = clusters[j]\n",
    "            j += 1\n",
    "    my_clusters += [clusters2]"
   ]
  },
  {
   "cell_type": "code",
   "execution_count": 20,
   "metadata": {},
   "outputs": [],
   "source": [
    "# cmap = plt.cm.hsv_r\n",
    "# ch_labels = [i for i in range(1, 33)]\n",
    "# title_font = {'fontname':'DejaVu Sans', 'size':'16', 'color':'black', 'weight':'bold'}\n",
    "\n",
    "\n",
    "# for i, cluster in enumerate(my_clusters):\n",
    "#     fig, ax = plt.subplots(figsize=(10, 6))\n",
    "#     ax.grid(False)\n",
    "#     ax.set_xticks([])\n",
    "#     ax.set_yticks([])\n",
    "\n",
    "#     ss = [x*100 if x == 0  else 100 for x in clusters2 ]\n",
    "#     ax.scatter(x, y, c=cluster, s=ss, cmap=cmap)\n",
    "\n",
    "#     for j, txt in enumerate(ch_labels):\n",
    "#         ax.annotate(txt, (x[j],y[j]))\n",
    "     \n",
    "#     title = 'Epoch {}'.format(i+1)\n",
    "#     ax.set_title(title, **title_font)\n",
    "#     ax.invert_yaxis()\n",
    "    \n",
    "#     fname = 'figs/pre/pre_cluster_epoch_{}.png'.format(i+1)\n",
    "#     plt.savefig(fname, bbox_inches='tight')\n",
    "#     plt.close()"
   ]
  },
  {
   "cell_type": "code",
   "execution_count": null,
   "metadata": {
    "collapsed": true
   },
   "outputs": [],
   "source": [
    "    "
   ]
  },
  {
   "cell_type": "code",
   "execution_count": null,
   "metadata": {
    "collapsed": true
   },
   "outputs": [],
   "source": []
  },
  {
   "cell_type": "code",
   "execution_count": null,
   "metadata": {
    "collapsed": true
   },
   "outputs": [],
   "source": []
  }
 ],
 "metadata": {
  "kernelspec": {
   "display_name": "Python 3",
   "language": "python",
   "name": "python3"
  },
  "language_info": {
   "codemirror_mode": {
    "name": "ipython",
    "version": 3
   },
   "file_extension": ".py",
   "mimetype": "text/x-python",
   "name": "python",
   "nbconvert_exporter": "python",
   "pygments_lexer": "ipython3",
   "version": "3.6.1"
  }
 },
 "nbformat": 4,
 "nbformat_minor": 2
}
