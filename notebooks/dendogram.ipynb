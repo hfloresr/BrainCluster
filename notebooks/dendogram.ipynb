{
 "cells": [
  {
   "cell_type": "code",
   "execution_count": 1,
   "metadata": {
    "collapsed": true
   },
   "outputs": [],
   "source": [
    "%matplotlib inline"
   ]
  },
  {
   "cell_type": "code",
   "execution_count": 2,
   "metadata": {
    "collapsed": true
   },
   "outputs": [],
   "source": [
    "import numpy as np\n",
    "import pandas as pd\n",
    "from sklearn import preprocessing\n",
    "from scipy.io import loadmat\n",
    "from scipy.cluster.hierarchy import dendrogram, linkage\n",
    "from scipy.cluster.hierarchy import fcluster\n",
    "\n",
    "import matplotlib.pyplot as plt\n",
    "import seaborn as sns\n",
    "cmap = plt.cm.hsv_r"
   ]
  },
  {
   "cell_type": "code",
   "execution_count": 3,
   "metadata": {
    "collapsed": true
   },
   "outputs": [],
   "source": [
    "# Read lfp data\n",
    "data = loadmat('../data/F141020-lfp-5min-1kHz.mat')\n",
    "\n",
    "# Extract pre_pmcao\n",
    "Z_pre = data['pre_pmcao']\n",
    "\n",
    "# Remove bad channels\n",
    "bad_channels = np.array([5, 8, 9, 12, 16, 26])\n",
    "Z_pre = np.delete(Z_pre, bad_channels, axis=1)"
   ]
  },
  {
   "cell_type": "code",
   "execution_count": 4,
   "metadata": {},
   "outputs": [
    {
     "data": {
      "text/plain": [
       "(300000, 26)"
      ]
     },
     "execution_count": 4,
     "metadata": {},
     "output_type": "execute_result"
    }
   ],
   "source": [
    "Z_pre.shape"
   ]
  },
  {
   "cell_type": "code",
   "execution_count": 5,
   "metadata": {
    "collapsed": true
   },
   "outputs": [],
   "source": [
    "# Standardize Z_pre to 0 mean and unit standard dev\n",
    "num_epochs = 300\n",
    "rate = 1000\n",
    "for i in range(num_epochs):\n",
    "    ioffset = i * rate\n",
    "    preprocessing.scale(Z_pre[ioffset:ioffset+rate,], copy=False)"
   ]
  },
  {
   "cell_type": "code",
   "execution_count": 28,
   "metadata": {},
   "outputs": [
    {
     "data": {
      "text/plain": [
       "-9.557037015615872e-06"
      ]
     },
     "execution_count": 28,
     "metadata": {},
     "output_type": "execute_result"
    }
   ],
   "source": [
    "np.mean(Z_pre[:999, ])"
   ]
  },
  {
   "cell_type": "code",
   "execution_count": 7,
   "metadata": {},
   "outputs": [
    {
     "data": {
      "image/png": "[encoded data removed]",
      "text/plain": [
       "<matplotlib.figure.Figure at 0x7f93e1910828>"
      ]
     },
     "metadata": {},
     "output_type": "display_data"
    }
   ],
   "source": [
    "fig, ax = plt.subplots()\n",
    "ax.grid(False)\n",
    "i = 0  # epoch 1\n",
    "ioffset = i * rate  # offset for sampling rate (1000 pts per epoch)\n",
    "Z_clust = linkage(Z_pre[ioffset:ioffset+rate,].T, 'complete', 'correlation')  # Agglomerative clustering w/ complete linkage\n",
    "labels = [i for i in range(1, 33) if i not in bad_channels+1]  # Create labels for channels 1-32 (excluding bad channels)\n",
    "dend = dendrogram(Z_clust, color_threshold=1, labels=labels)  # Create dendogram"
   ]
  },
  {
   "cell_type": "code",
   "execution_count": 8,
   "metadata": {
    "collapsed": true
   },
   "outputs": [],
   "source": [
    "y = [1, 2, 3, 4] * 8\n",
    "x = [1]*4 + [2]*4 + [3]*4 + [4]*4 + [5]*4 + [6]*4 + [7]*4 + [8]*4\n",
    "#ch_labels = [j for i in range(1, 9) for j in range(i*4, 4*(i-1), -1)]\n",
    "ch_labels = [i for i in range(1, 33)]"
   ]
  },
  {
   "cell_type": "code",
   "execution_count": 9,
   "metadata": {},
   "outputs": [
    {
     "data": {
      "image/png": "[encoded data removed]",
      "text/plain": [
       "<matplotlib.figure.Figure at 0x7f93c06ddd30>"
      ]
     },
     "metadata": {},
     "output_type": "display_data"
    }
   ],
   "source": [
    "fig, ax = plt.subplots()\n",
    "ax.grid(False)\n",
    "ax.set_xticks([])\n",
    "ax.set_yticks([])\n",
    "ax.scatter(x, y)\n",
    "\n",
    "for i, txt in enumerate(ch_labels):\n",
    "    ax.annotate(txt, (x[i],y[i]))"
   ]
  },
  {
   "cell_type": "code",
   "execution_count": 10,
   "metadata": {},
   "outputs": [
    {
     "data": {
      "text/plain": [
       "array([1, 1, 4, 3, 1, 3, 3, 3, 3, 1, 3, 3, 1, 2, 2, 1, 1, 2, 2, 1, 1, 4, 1,\n",
       "       1, 4, 4], dtype=int32)"
      ]
     },
     "execution_count": 10,
     "metadata": {},
     "output_type": "execute_result"
    }
   ],
   "source": [
    "k = 4\n",
    "clusters = fcluster(Z_clust, k, criterion='maxclust')\n",
    "clusters"
   ]
  },
  {
   "cell_type": "code",
   "execution_count": 11,
   "metadata": {
    "collapsed": true
   },
   "outputs": [],
   "source": [
    "# TODO: Refactor!\n",
    "clusters2 = np.zeros(32)\n",
    "j = 0\n",
    "for i in range(32):\n",
    "    if i not in bad_channels:\n",
    "        clusters2[i] = clusters[j]\n",
    "        j += 1"
   ]
  },
  {
   "cell_type": "code",
   "execution_count": 12,
   "metadata": {},
   "outputs": [
    {
     "data": {
      "text/plain": [
       "array([ 1.,  1.,  4.,  3.,  1.,  0.,  3.,  3.,  0.,  0.,  3.,  3.,  0.,\n",
       "        1.,  3.,  3.,  0.,  1.,  2.,  2.,  1.,  1.,  2.,  2.,  1.,  1.,\n",
       "        0.,  4.,  1.,  1.,  4.,  4.])"
      ]
     },
     "execution_count": 12,
     "metadata": {},
     "output_type": "execute_result"
    }
   ],
   "source": [
    "clusters2"
   ]
  },
  {
   "cell_type": "code",
   "execution_count": 13,
   "metadata": {},
   "outputs": [
    {
     "data": {
      "text/plain": [
       "<matplotlib.text.Text at 0x7f93c05a8320>"
      ]
     },
     "execution_count": 13,
     "metadata": {},
     "output_type": "execute_result"
    },
    {
     "data": {
      "image/png": "[encoded data removed]",
      "text/plain": [
       "<matplotlib.figure.Figure at 0x7f93c05ce748>"
      ]
     },
     "metadata": {},
     "output_type": "display_data"
    }
   ],
   "source": [
    "title_font = {'fontname':'DejaVu Sans', 'size':'16', 'color':'black', 'weight':'bold'}\n",
    "\n",
    "fig, ax = plt.subplots(figsize=(10, 6))\n",
    "ax.grid(False)\n",
    "ax.set_xticks([])\n",
    "ax.set_yticks([])\n",
    "\n",
    "cmap = plt.cm.hsv_r\n",
    "ss = [n*100 if n == 0  else 100 for n in clusters2]\n",
    "ax.scatter(x, y, c=clusters2, s=ss, cmap=cmap)\n",
    "\n",
    "for i, txt in enumerate(ch_labels):\n",
    "    ax.annotate(txt, (x[i],y[i]))\n",
    "ax.set_title('Epoch 1', **title_font)"
   ]
  },
  {
   "cell_type": "code",
   "execution_count": null,
   "metadata": {
    "collapsed": true
   },
   "outputs": [],
   "source": []
  },
  {
   "cell_type": "code",
   "execution_count": 14,
   "metadata": {
    "collapsed": true
   },
   "outputs": [],
   "source": [
    "my_clusters = []\n",
    "\n",
    "num_epochs = 300\n",
    "rate = 1000\n",
    "for i in range(num_epochs):\n",
    "    ioffset = i * rate\n",
    "    Z_clust = linkage(Z_pre[ioffset:ioffset+rate,].T, 'complete', 'correlation')\n",
    "    \n",
    "    k = 4  # number of clusters\n",
    "    clusters = fcluster(Z_clust, k, criterion='maxclust')\n",
    "    \n",
    "    clusters2 = np.zeros(32)\n",
    "    j = 0\n",
    "    for i in range(32):\n",
    "        if i not in bad_channels:\n",
    "            clusters2[i] = clusters[j]\n",
    "            j += 1\n",
    "    my_clusters += [clusters2]"
   ]
  },
  {
   "cell_type": "code",
   "execution_count": 15,
   "metadata": {
    "collapsed": true
   },
   "outputs": [],
   "source": [
    "# cmap = plt.cm.hsv_r\n",
    "# ch_labels = [i for i in range(1, 33)]\n",
    "# title_font = {'fontname':'DejaVu Sans', 'size':'16', 'color':'black', 'weight':'bold'}\n",
    "\n",
    "\n",
    "# for i, cluster in enumerate(my_clusters):\n",
    "#     fig, ax = plt.subplots(figsize=(10, 6))\n",
    "#     ax.grid(False)\n",
    "#     ax.set_xticks([])\n",
    "#     ax.set_yticks([])\n",
    "\n",
    "#     ss = [x*100 if x == 0  else 100 for x in clusters2 ]\n",
    "#     ax.scatter(x, y, c=cluster, s=ss, cmap=cmap)\n",
    "\n",
    "#     for j, txt in enumerate(ch_labels):\n",
    "#         ax.annotate(txt, (x[j],y[j]))\n",
    "     \n",
    "#     title = 'Epoch {}'.format(i+1)\n",
    "#     ax.set_title(title, **title_font)\n",
    "#     ax.invert_yaxis()\n",
    "    \n",
    "#     fname = 'figs/pre/pre_cluster_epoch_{}.png'.format(i+1)\n",
    "#     plt.savefig(fname, bbox_inches='tight')\n",
    "#     plt.close()"
   ]
  },
  {
   "cell_type": "code",
   "execution_count": 16,
   "metadata": {
    "collapsed": true
   },
   "outputs": [],
   "source": [
    "Z_post = data['post_pmcao']"
   ]
  },
  {
   "cell_type": "code",
   "execution_count": 17,
   "metadata": {},
   "outputs": [
    {
     "data": {
      "text/plain": [
       "32"
      ]
     },
     "execution_count": 17,
     "metadata": {},
     "output_type": "execute_result"
    }
   ],
   "source": [
    "Z_post.shape[1]"
   ]
  },
  {
   "cell_type": "code",
   "execution_count": 18,
   "metadata": {
    "collapsed": true
   },
   "outputs": [],
   "source": [
    "num_channels = Z_post.shape[1]"
   ]
  },
  {
   "cell_type": "code",
   "execution_count": 19,
   "metadata": {},
   "outputs": [],
   "source": [
    "channels = {i for i in range(num_channels)}"
   ]
  },
  {
   "cell_type": "code",
   "execution_count": 20,
   "metadata": {},
   "outputs": [],
   "source": [
    "good_channels = channels.difference(set(bad_channels))"
   ]
  },
  {
   "cell_type": "code",
   "execution_count": 21,
   "metadata": {},
   "outputs": [],
   "source": [
    "epochs_exc_chs_11_15_16 = {53, 62, 63, 113, 114, 115, 116, 135, 136, 137, 138, 139, 140,\n",
    "                           150, 151, 152, 153, 160, 161, 162, 163, 164, 165, 166, 167, 181,\n",
    "                           182, 183, 184, 185, 186, 199, 200, 201, 202, 203, 204, 205, 206,\n",
    "                           207, 222, 223, 224, 236, 237, 238, 239, 295, 296}\n",
    "epochs_exc_chs_15_16 = {61, 64, 65}\n",
    "epochs_exc_chs_11_16 = {235, 240, 242}\n",
    "epochs_exc_chs_16 = {170, 171}\n",
    "epochs_exc_chs_11 = {118}"
   ]
  },
  {
   "cell_type": "code",
   "execution_count": 22,
   "metadata": {},
   "outputs": [
    {
     "data": {
      "text/plain": [
       "array([[ 146.01161194,  140.459198  ,  152.94448853, ...,  140.59451294,\n",
       "         127.52067566,  120.79473114],\n",
       "       [ 129.41931152,  121.73713684,  176.21218872, ...,  106.98990631,\n",
       "         103.58715057,  163.9092865 ],\n",
       "       [ 118.9986496 ,  113.82149506,  168.74081421, ...,   93.65656281,\n",
       "          98.31440735,  152.97567749],\n",
       "       ..., \n",
       "       [ -86.05066681, -106.15977478,  -70.78430176, ...,  -48.75403214,\n",
       "         -73.89341736,  -76.206604  ],\n",
       "       [-122.3041153 , -120.70407104, -102.70317078, ...,  -84.66221619,\n",
       "        -114.97197723,  -63.76972198],\n",
       "       [-121.63273621, -113.08517456, -106.23748779, ..., -106.02036285,\n",
       "        -130.75332642,  -45.03544235]])"
      ]
     },
     "execution_count": 22,
     "metadata": {},
     "output_type": "execute_result"
    }
   ],
   "source": [
    "Z_post[:999, ]"
   ]
  },
  {
   "cell_type": "code",
   "execution_count": 26,
   "metadata": {},
   "outputs": [],
   "source": [
    "# Standardize Z_post to 0 mean and unit standard dev\n",
    "num_epochs = 300\n",
    "rate = 1000\n",
    "for i in range(num_epochs):\n",
    "    chns = good_channels\n",
    "    if i in epochs_exc_chs_11_15_16:\n",
    "        chns.difference({10, 14, 15})\n",
    "    elif i in epochs_exc_chs_15_16:\n",
    "        chns.difference({14, 15})\n",
    "    elif i in epochs_exc_chs_11_16:\n",
    "        chns.difference({10, 15})\n",
    "    elif i in epochs_exc_chs_16:\n",
    "        chns.difference({15})\n",
    "    elif i in epochs_exc_chs_11:\n",
    "        chns.difference({10})\n",
    "    \n",
    "    ioffset = i * rate\n",
    "    preprocessing.scale(Z_post[ioffset:ioffset+rate, list(chns)], copy=False)"
   ]
  },
  {
   "cell_type": "code",
   "execution_count": 33,
   "metadata": {},
   "outputs": [
    {
     "data": {
      "text/plain": [
       "array([[ 146.01161194,  140.459198  ,  152.94448853, ...,  140.59451294,\n",
       "         127.52067566,  120.79473114],\n",
       "       [ 129.41931152,  121.73713684,  176.21218872, ...,  106.98990631,\n",
       "         103.58715057,  163.9092865 ],\n",
       "       [ 118.9986496 ,  113.82149506,  168.74081421, ...,   93.65656281,\n",
       "          98.31440735,  152.97567749],\n",
       "       ..., \n",
       "       [-122.3041153 , -120.70407104, -102.70317078, ...,  -84.66221619,\n",
       "        -114.97197723,  -63.76972198],\n",
       "       [-121.63273621, -113.08517456, -106.23748779, ..., -106.02036285,\n",
       "        -130.75332642,  -45.03544235],\n",
       "       [-127.77035522, -107.13977051, -102.40661621, ..., -103.84176636,\n",
       "        -134.73492432,  -57.46609879]])"
      ]
     },
     "execution_count": 33,
     "metadata": {},
     "output_type": "execute_result"
    }
   ],
   "source": [
    "Z_post[:1000, list(good_channels)]"
   ]
  },
  {
   "cell_type": "code",
   "execution_count": 34,
   "metadata": {},
   "outputs": [
    {
     "data": {
      "text/plain": [
       "-20.51432460127354"
      ]
     },
     "execution_count": 34,
     "metadata": {},
     "output_type": "execute_result"
    }
   ],
   "source": [
    "np.mean(Z_post[:1000, list(good_channels)])"
   ]
  },
  {
   "cell_type": "code",
   "execution_count": null,
   "metadata": {
    "collapsed": true
   },
   "outputs": [],
   "source": []
  }
 ],
 "metadata": {
  "kernelspec": {
   "display_name": "Python 3",
   "language": "python",
   "name": "python3"
  },
  "language_info": {
   "codemirror_mode": {
    "name": "ipython",
    "version": 3
   },
   "file_extension": ".py",
   "mimetype": "text/x-python",
   "name": "python",
   "nbconvert_exporter": "python",
   "pygments_lexer": "ipython3",
   "version": "3.6.1"
  }
 },
 "nbformat": 4,
 "nbformat_minor": 2
}
