{
 "cells": [
  {
   "cell_type": "code",
   "execution_count": 1,
   "metadata": {},
   "outputs": [
    {
     "name": "stderr",
     "output_type": "stream",
     "text": [
      "/home/floresh/anaconda3/lib/python3.6/site-packages/matplotlib/font_manager.py:280: UserWarning: Matplotlib is building the font cache using fc-list. This may take a moment.\n",
      "  'Matplotlib is building the font cache using fc-list. '\n"
     ]
    }
   ],
   "source": [
    "%matplotlib inline"
   ]
  },
  {
   "cell_type": "code",
   "execution_count": 2,
   "metadata": {
    "collapsed": true
   },
   "outputs": [],
   "source": [
    "import numpy as np\n",
    "import pandas as pd\n",
    "from sklearn import preprocessing\n",
    "from scipy.io import loadmat\n",
    "from scipy.cluster.hierarchy import dendrogram, linkage\n",
    "from scipy.cluster.hierarchy import fcluster\n",
    "\n",
    "import matplotlib.pyplot as plt\n",
    "import seaborn as sns\n",
    "cmap = plt.cm.hsv_r"
   ]
  },
  {
   "cell_type": "code",
   "execution_count": 4,
   "metadata": {},
   "outputs": [],
   "source": [
    "# Read lfp data\n",
    "data = loadmat('../data/F141020-lfp-5min-1kHz.mat')\n",
    "\n",
    "# Extract pre_pmcao\n",
    "Z_pre = data['pre_pmcao']\n",
    "\n",
    "# Remove bad channels\n",
    "bad_channels = np.array([5, 8, 9, 12, 16, 26])\n",
    "Z_pre = np.delete(Z_pre, bad_channels, axis=1)"
   ]
  },
  {
   "cell_type": "code",
   "execution_count": 5,
   "metadata": {},
   "outputs": [
    {
     "data": {
      "text/plain": [
       "(300000, 26)"
      ]
     },
     "execution_count": 5,
     "metadata": {},
     "output_type": "execute_result"
    }
   ],
   "source": [
    "Z_pre.shape"
   ]
  },
  {
   "cell_type": "code",
   "execution_count": 6,
   "metadata": {
    "collapsed": true
   },
   "outputs": [],
   "source": [
    "# Standardize Z_pre to 0 mean and unit standard dev\n",
    "num_epochs = 300\n",
    "rate = 1000\n",
    "for i in range(num_epochs):\n",
    "    ioffset = i * rate\n",
    "    preprocessing.scale(Z_pre[ioffset:ioffset+rate,], copy=False)"
   ]
  },
  {
   "cell_type": "code",
   "execution_count": 7,
   "metadata": {},
   "outputs": [
    {
     "data": {
      "text/plain": [
       "-9.557037015615872e-06"
      ]
     },
     "execution_count": 7,
     "metadata": {},
     "output_type": "execute_result"
    }
   ],
   "source": [
    "np.mean(Z_pre[:999, ])"
   ]
  },
  {
   "cell_type": "code",
   "execution_count": 8,
   "metadata": {},
   "outputs": [
    {
     "data": {
      "image/png": "[encoded data removed]",
      "text/plain": [
       "<matplotlib.figure.Figure at 0x7fc55f707a20>"
      ]
     },
     "metadata": {},
     "output_type": "display_data"
    }
   ],
   "source": [
    "fig, ax = plt.subplots()\n",
    "ax.grid(False)\n",
    "i = 0  # epoch 1\n",
    "ioffset = i * rate  # offset for sampling rate (1000 pts per epoch)\n",
    "Z_clust = linkage(Z_pre[ioffset:ioffset+rate,].T, 'complete', 'correlation')  # Agglomerative clustering w/ complete linkage\n",
    "labels = [i for i in range(1, 33) if i not in bad_channels+1]  # Create labels for channels 1-32 (excluding bad channels)\n",
    "dend = dendrogram(Z_clust, color_threshold=1, labels=labels)  # Create dendogram"
   ]
  },
  {
   "cell_type": "code",
   "execution_count": 9,
   "metadata": {
    "collapsed": true
   },
   "outputs": [],
   "source": [
    "y = [1, 2, 3, 4] * 8\n",
    "x = [1]*4 + [2]*4 + [3]*4 + [4]*4 + [5]*4 + [6]*4 + [7]*4 + [8]*4\n",
    "#ch_labels = [j for i in range(1, 9) for j in range(i*4, 4*(i-1), -1)]\n",
    "ch_labels = [i for i in range(1, 33)]"
   ]
  },
  {
   "cell_type": "code",
   "execution_count": 10,
   "metadata": {},
   "outputs": [
    {
     "data": {
      "image/png": "[encoded data removed]",
      "text/plain": [
       "<matplotlib.figure.Figure at 0x7fc550478240>"
      ]
     },
     "metadata": {},
     "output_type": "display_data"
    }
   ],
   "source": [
    "fig, ax = plt.subplots()\n",
    "ax.grid(False)\n",
    "ax.set_xticks([])\n",
    "ax.set_yticks([])\n",
    "ax.scatter(x, y)\n",
    "\n",
    "for i, txt in enumerate(ch_labels):\n",
    "    ax.annotate(txt, (x[i],y[i]))"
   ]
  },
  {
   "cell_type": "code",
   "execution_count": 11,
   "metadata": {},
   "outputs": [
    {
     "data": {
      "text/plain": [
       "array([1, 1, 4, 3, 1, 3, 3, 3, 3, 1, 3, 3, 1, 2, 2, 1, 1, 2, 2, 1, 1, 4, 1,\n",
       "       1, 4, 4], dtype=int32)"
      ]
     },
     "execution_count": 11,
     "metadata": {},
     "output_type": "execute_result"
    }
   ],
   "source": [
    "k = 4\n",
    "clusters = fcluster(Z_clust, k, criterion='maxclust')\n",
    "clusters"
   ]
  },
  {
   "cell_type": "code",
   "execution_count": 12,
   "metadata": {
    "collapsed": true
   },
   "outputs": [],
   "source": [
    "# TODO: Refactor!\n",
    "clusters2 = np.zeros(32)\n",
    "j = 0\n",
    "for i in range(32):\n",
    "    if i not in bad_channels:\n",
    "        clusters2[i] = clusters[j]\n",
    "        j += 1"
   ]
  },
  {
   "cell_type": "code",
   "execution_count": 13,
   "metadata": {},
   "outputs": [
    {
     "data": {
      "text/plain": [
       "array([ 1.,  1.,  4.,  3.,  1.,  0.,  3.,  3.,  0.,  0.,  3.,  3.,  0.,\n",
       "        1.,  3.,  3.,  0.,  1.,  2.,  2.,  1.,  1.,  2.,  2.,  1.,  1.,\n",
       "        0.,  4.,  1.,  1.,  4.,  4.])"
      ]
     },
     "execution_count": 13,
     "metadata": {},
     "output_type": "execute_result"
    }
   ],
   "source": [
    "clusters2"
   ]
  },
  {
   "cell_type": "code",
   "execution_count": 14,
   "metadata": {},
   "outputs": [
    {
     "data": {
      "text/plain": [
       "<matplotlib.text.Text at 0x7fc550332f28>"
      ]
     },
     "execution_count": 14,
     "metadata": {},
     "output_type": "execute_result"
    },
    {
     "data": {
      "image/png": "[encoded data removed]",
      "text/plain": [
       "<matplotlib.figure.Figure at 0x7fc550372cc0>"
      ]
     },
     "metadata": {},
     "output_type": "display_data"
    }
   ],
   "source": [
    "title_font = {'fontname':'DejaVu Sans', 'size':'16', 'color':'black', 'weight':'bold'}\n",
    "\n",
    "fig, ax = plt.subplots(figsize=(10, 6))\n",
    "ax.grid(False)\n",
    "ax.set_xticks([])\n",
    "ax.set_yticks([])\n",
    "\n",
    "cmap = plt.cm.hsv_r\n",
    "ss = [n*100 if n == 0  else 100 for n in clusters2]\n",
    "ax.scatter(x, y, c=clusters2, s=ss, cmap=cmap)\n",
    "\n",
    "for i, txt in enumerate(ch_labels):\n",
    "    ax.annotate(txt, (x[i],y[i]))\n",
    "ax.set_title('Epoch 1', **title_font)"
   ]
  },
  {
   "cell_type": "code",
   "execution_count": null,
   "metadata": {
    "collapsed": true
   },
   "outputs": [],
   "source": []
  },
  {
   "cell_type": "code",
   "execution_count": 15,
   "metadata": {
    "collapsed": true
   },
   "outputs": [],
   "source": [
    "my_clusters = []\n",
    "\n",
    "num_epochs = 300\n",
    "rate = 1000\n",
    "for i in range(num_epochs):\n",
    "    ioffset = i * rate\n",
    "    Z_clust = linkage(Z_pre[ioffset:ioffset+rate,].T, 'complete', 'correlation')\n",
    "    \n",
    "    k = 4  # number of clusters\n",
    "    clusters = fcluster(Z_clust, k, criterion='maxclust')\n",
    "    \n",
    "    clusters2 = np.zeros(32)\n",
    "    j = 0\n",
    "    for i in range(32):\n",
    "        if i not in bad_channels:\n",
    "            clusters2[i] = clusters[j]\n",
    "            j += 1\n",
    "    my_clusters += [clusters2]"
   ]
  },
  {
   "cell_type": "code",
   "execution_count": 16,
   "metadata": {
    "collapsed": true
   },
   "outputs": [],
   "source": [
    "# cmap = plt.cm.hsv_r\n",
    "# ch_labels = [i for i in range(1, 33)]\n",
    "# title_font = {'fontname':'DejaVu Sans', 'size':'16', 'color':'black', 'weight':'bold'}\n",
    "\n",
    "\n",
    "# for i, cluster in enumerate(my_clusters):\n",
    "#     fig, ax = plt.subplots(figsize=(10, 6))\n",
    "#     ax.grid(False)\n",
    "#     ax.set_xticks([])\n",
    "#     ax.set_yticks([])\n",
    "\n",
    "#     ss = [x*100 if x == 0  else 100 for x in clusters2 ]\n",
    "#     ax.scatter(x, y, c=cluster, s=ss, cmap=cmap)\n",
    "\n",
    "#     for j, txt in enumerate(ch_labels):\n",
    "#         ax.annotate(txt, (x[j],y[j]))\n",
    "     \n",
    "#     title = 'Epoch {}'.format(i+1)\n",
    "#     ax.set_title(title, **title_font)\n",
    "#     ax.invert_yaxis()\n",
    "    \n",
    "#     fname = 'figs/pre/pre_cluster_epoch_{}.png'.format(i+1)\n",
    "#     plt.savefig(fname, bbox_inches='tight')\n",
    "#     plt.close()"
   ]
  },
  {
   "cell_type": "code",
   "execution_count": 17,
   "metadata": {
    "collapsed": true
   },
   "outputs": [],
   "source": [
    "Z_post = data['post_pmcao']"
   ]
  },
  {
   "cell_type": "code",
   "execution_count": 18,
   "metadata": {},
   "outputs": [
    {
     "data": {
      "text/plain": [
       "32"
      ]
     },
     "execution_count": 18,
     "metadata": {},
     "output_type": "execute_result"
    }
   ],
   "source": [
    "Z_post.shape[1]"
   ]
  },
  {
   "cell_type": "code",
   "execution_count": 19,
   "metadata": {
    "collapsed": true
   },
   "outputs": [],
   "source": [
    "num_channels = Z_post.shape[1]"
   ]
  },
  {
   "cell_type": "code",
   "execution_count": 20,
   "metadata": {
    "collapsed": true
   },
   "outputs": [],
   "source": [
    "channels = {i for i in range(num_channels)}"
   ]
  },
  {
   "cell_type": "code",
   "execution_count": 21,
   "metadata": {
    "collapsed": true
   },
   "outputs": [],
   "source": [
    "good_channels = channels.difference(set(bad_channels))"
   ]
  },
  {
   "cell_type": "code",
   "execution_count": 22,
   "metadata": {
    "collapsed": true
   },
   "outputs": [],
   "source": [
    "epochs_exc_chs_11_15_16 = {53, 62, 63, 113, 114, 115, 116, 135, 136, 137, 138, 139, 140,\n",
    "                           150, 151, 152, 153, 160, 161, 162, 163, 164, 165, 166, 167, 181,\n",
    "                           182, 183, 184, 185, 186, 199, 200, 201, 202, 203, 204, 205, 206,\n",
    "                           207, 222, 223, 224, 236, 237, 238, 239, 295, 296}\n",
    "epochs_exc_chs_15_16 = {61, 64, 65}\n",
    "epochs_exc_chs_11_16 = {235, 240, 242}\n",
    "epochs_exc_chs_16 = {170, 171}\n",
    "epochs_exc_chs_11 = {118}"
   ]
  },
  {
   "cell_type": "code",
   "execution_count": 23,
   "metadata": {},
   "outputs": [
    {
     "data": {
      "text/plain": [
       "array([[ 146.01161194,  140.459198  ,  152.94448853, ...,  140.59451294,\n",
       "         127.52067566,  120.79473114],\n",
       "       [ 129.41931152,  121.73713684,  176.21218872, ...,  106.98990631,\n",
       "         103.58715057,  163.9092865 ],\n",
       "       [ 118.9986496 ,  113.82149506,  168.74081421, ...,   93.65656281,\n",
       "          98.31440735,  152.97567749],\n",
       "       ..., \n",
       "       [ -86.05066681, -106.15977478,  -70.78430176, ...,  -48.75403214,\n",
       "         -73.89341736,  -76.206604  ],\n",
       "       [-122.3041153 , -120.70407104, -102.70317078, ...,  -84.66221619,\n",
       "        -114.97197723,  -63.76972198],\n",
       "       [-121.63273621, -113.08517456, -106.23748779, ..., -106.02036285,\n",
       "        -130.75332642,  -45.03544235]])"
      ]
     },
     "execution_count": 23,
     "metadata": {},
     "output_type": "execute_result"
    }
   ],
   "source": [
    "Z_post[:999, ]"
   ]
  },
  {
   "cell_type": "code",
   "execution_count": 29,
   "metadata": {},
   "outputs": [],
   "source": [
    "# Standardize Z_post to 0 mean and unit standard dev\n",
    "num_epochs = 300\n",
    "rate = 1000\n",
    "for i in range(num_epochs):\n",
    "    chns = good_channels\n",
    "    if i in epochs_exc_chs_11_15_16:\n",
    "        chns.difference({10, 14, 15})\n",
    "    elif i in epochs_exc_chs_15_16:\n",
    "        chns.difference({14, 15})\n",
    "    elif i in epochs_exc_chs_11_16:\n",
    "        chns.difference({10, 15})\n",
    "    elif i in epochs_exc_chs_16:\n",
    "        chns.difference({15})\n",
    "    elif i in epochs_exc_chs_11:\n",
    "        chns.difference({10})\n",
    "    \n",
    "    ioffset = i * rate\n",
    "    Z_post[ioffset:ioffset+rate, list(chns)] = preprocessing.scale(Z_post[ioffset:ioffset+rate, list(chns)])"
   ]
  },
  {
   "cell_type": "code",
   "execution_count": 30,
   "metadata": {},
   "outputs": [
    {
     "data": {
      "text/plain": [
       "array([[ 1.23638561,  1.19574085,  1.21946808, ...,  1.37810905,\n",
       "         1.18306177,  1.05306128],\n",
       "       [ 1.11428056,  1.05800354,  1.38555557, ...,  1.10219333,\n",
       "         0.99112767,  1.40759268],\n",
       "       [ 1.03759345,  0.99976854,  1.33222405, ...,  0.9927179 ,\n",
       "         0.94884308,  1.31768551],\n",
       "       ..., \n",
       "       [-0.73818726, -0.72562481, -0.60537404, ..., -0.47139547,\n",
       "        -0.76159992, -0.46461398],\n",
       "       [-0.73324649, -0.66957295, -0.63060239, ..., -0.64675977,\n",
       "        -0.88815792, -0.31056182],\n",
       "       [-0.77841409, -0.6258329 , -0.60325719, ..., -0.62887207,\n",
       "        -0.92008821, -0.41277922]])"
      ]
     },
     "execution_count": 30,
     "metadata": {},
     "output_type": "execute_result"
    }
   ],
   "source": [
    "Z_post[:1000, list(good_channels)]"
   ]
  },
  {
   "cell_type": "code",
   "execution_count": 40,
   "metadata": {},
   "outputs": [],
   "source": [
    "def init_grid():\n",
    "    y = [1, 2, 3, 4] * 8\n",
    "    x = [1]*4 + [2]*4 + [3]*4 + [4]*4 + [5]*4 + [6]*4 + [7]*4 + [8]*4\n",
    "    return x, y"
   ]
  },
  {
   "cell_type": "code",
   "execution_count": 50,
   "metadata": {},
   "outputs": [
    {
     "data": {
      "image/png": "[encoded data removed]",
      "text/plain": [
       "<matplotlib.figure.Figure at 0x7fc54ffb8ef0>"
      ]
     },
     "metadata": {},
     "output_type": "display_data"
    }
   ],
   "source": [
    "fig, ax = plt.subplots()\n",
    "ax.grid(False)\n",
    "i = 0  # epoch 1\n",
    "ioffset = i * rate \n",
    "Z_clust = linkage(Z_post[ioffset:ioffset+rate, list(good_channels)].T, 'complete', 'correlation')\n",
    "labels = [i for i in range(1, 33) if i not in bad_channels+1] \n",
    "dend = dendrogram(Z_clust, color_threshold=0, labels=labels)"
   ]
  },
  {
   "cell_type": "code",
   "execution_count": 80,
   "metadata": {},
   "outputs": [
    {
     "data": {
      "text/plain": [
       "array([3, 3, 3, 3, 4, 3, 3, 4, 4, 4, 4, 4, 2, 2, 2, 1, 1, 1, 1, 1, 1, 1, 3,\n",
       "       3, 3, 3], dtype=int32)"
      ]
     },
     "execution_count": 80,
     "metadata": {},
     "output_type": "execute_result"
    }
   ],
   "source": [
    "k = 4\n",
    "clusters = fcluster(Z_clust, k, criterion='maxclust')\n",
    "clusters"
   ]
  },
  {
   "cell_type": "code",
   "execution_count": 81,
   "metadata": {},
   "outputs": [
    {
     "data": {
      "text/plain": [
       "array([3, 3, 3, 3, 4, 3, 3, 4, 4, 4, 4, 4, 2, 2, 2, 1, 1, 1, 1, 1, 1, 1, 3,\n",
       "       3, 3, 3], dtype=int32)"
      ]
     },
     "execution_count": 81,
     "metadata": {},
     "output_type": "execute_result"
    }
   ],
   "source": [
    "clusters"
   ]
  },
  {
   "cell_type": "code",
   "execution_count": 82,
   "metadata": {
    "collapsed": true
   },
   "outputs": [],
   "source": [
    "# TODO: Refactor!\n",
    "clusters2 = np.zeros(32)\n",
    "j = 0\n",
    "for i in range(32):\n",
    "    if i not in bad_channels:\n",
    "        clusters2[i] = clusters[j]\n",
    "        j += 1"
   ]
  },
  {
   "cell_type": "code",
   "execution_count": 83,
   "metadata": {},
   "outputs": [
    {
     "data": {
      "text/plain": [
       "array([ 3.,  3.,  3.,  3.,  4.,  0.,  3.,  3.,  0.,  0.,  4.,  4.,  0.,\n",
       "        4.,  4.,  4.,  0.,  2.,  2.,  2.,  1.,  1.,  1.,  1.,  1.,  1.,\n",
       "        0.,  1.,  3.,  3.,  3.,  3.])"
      ]
     },
     "execution_count": 83,
     "metadata": {},
     "output_type": "execute_result"
    }
   ],
   "source": [
    "clusters2"
   ]
  },
  {
   "cell_type": "code",
   "execution_count": 84,
   "metadata": {
    "collapsed": true
   },
   "outputs": [],
   "source": [
    "clusters3 = list(clusters)"
   ]
  },
  {
   "cell_type": "code",
   "execution_count": 85,
   "metadata": {},
   "outputs": [
    {
     "data": {
      "text/plain": [
       "array([ 5,  8,  9, 12, 16, 26])"
      ]
     },
     "execution_count": 85,
     "metadata": {},
     "output_type": "execute_result"
    }
   ],
   "source": [
    "bad_channels"
   ]
  },
  {
   "cell_type": "code",
   "execution_count": 86,
   "metadata": {},
   "outputs": [
    {
     "data": {
      "text/plain": [
       "[3, 3, 3, 3, 4, 3, 3, 4, 4, 4, 4, 4, 2, 2, 2, 1, 1, 1, 1, 1, 1, 1, 3, 3, 3, 3]"
      ]
     },
     "execution_count": 86,
     "metadata": {},
     "output_type": "execute_result"
    }
   ],
   "source": [
    "clusters3"
   ]
  },
  {
   "cell_type": "code",
   "execution_count": 87,
   "metadata": {},
   "outputs": [],
   "source": [
    "for ch in bad_channels:\n",
    "    clusters3.insert(ch, 0)"
   ]
  },
  {
   "cell_type": "code",
   "execution_count": 88,
   "metadata": {},
   "outputs": [
    {
     "data": {
      "text/plain": [
       "True"
      ]
     },
     "execution_count": 88,
     "metadata": {},
     "output_type": "execute_result"
    }
   ],
   "source": [
    "len(clusters3) == len(clusters2)"
   ]
  },
  {
   "cell_type": "code",
   "execution_count": 90,
   "metadata": {},
   "outputs": [
    {
     "data": {
      "text/plain": [
       "array([ True,  True,  True,  True,  True,  True,  True,  True,  True,\n",
       "        True,  True,  True,  True,  True,  True,  True,  True,  True,\n",
       "        True,  True,  True,  True,  True,  True,  True,  True,  True,\n",
       "        True,  True,  True,  True,  True], dtype=bool)"
      ]
     },
     "execution_count": 90,
     "metadata": {},
     "output_type": "execute_result"
    }
   ],
   "source": [
    "clusters3 == clusters2"
   ]
  },
  {
   "cell_type": "code",
   "execution_count": 91,
   "metadata": {
    "collapsed": true
   },
   "outputs": [],
   "source": [
    "def get_clusters(Z, k, epoch, bad_channels):\n",
    "    num_channels = Z.shape[1]\n",
    "    channels = {i for i in range(num_channels)}\n",
    "    good_channels = channels.difference(set(bad_channels))\n",
    "    \n",
    "    i = epoch - 1  # indices for epochs are 0-based\n",
    "    ioffset = i * rate \n",
    "    Z_clust = linkage(Z[ioffset:ioffset+rate, list(good_channels)].T, 'complete', 'correlation')\n",
    "    clusters = fcluster(Z_clust, k, criterion='maxclust')\n",
    "    \n",
    "    complete_clusters = list(clusters)\n",
    "    for ch in bad_channels:\n",
    "        complete_clusters.insert(ch, 0)  # Assign bad channels to cluster 0\n",
    "    return complete_clusters"
   ]
  },
  {
   "cell_type": "code",
   "execution_count": null,
   "metadata": {
    "collapsed": true
   },
   "outputs": [],
   "source": [
    "def standardize_lfp(Z, nepochs, rate, bad_channels=None):\n",
    "    # Remove bad channels\n",
    "    if bad_channels:\n",
    "        Z = np.delete(Z, bad_channels, axis=1)\n",
    "    \n",
    "    # Standardize Z_pre to 0 mean and unit standard dev\n",
    "    for i in range(nepochs):\n",
    "        ioffset = i * rate\n",
    "        preprocessing.scale(Z[ioffset:ioffset+rate, ], copy=False)\n",
    "    return Z"
   ]
  },
  {
   "cell_type": "code",
   "execution_count": 92,
   "metadata": {},
   "outputs": [
    {
     "data": {
      "text/plain": [
       "<matplotlib.text.Text at 0x7fc5500a2198>"
      ]
     },
     "execution_count": 92,
     "metadata": {},
     "output_type": "execute_result"
    },
    {
     "data": {
      "image/png": "[encoded data removed]",
      "text/plain": [
       "<matplotlib.figure.Figure at 0x7fc550096518>"
      ]
     },
     "metadata": {},
     "output_type": "display_data"
    }
   ],
   "source": [
    "title_font = {'fontname':'DejaVu Sans', 'size':'16', 'color':'black', 'weight':'bold'}\n",
    "\n",
    "fig, ax = plt.subplots(figsize=(10, 6))\n",
    "ax.grid(False)\n",
    "ax.set_xticks([])\n",
    "ax.set_yticks([])\n",
    "\n",
    "ss = [n*100 if n == 0  else 100 for n in clusters3]\n",
    "ax.scatter(x, y, c=clusters3, s=ss, cmap=cmap)\n",
    "\n",
    "for i, txt in enumerate(ch_labels):\n",
    "    ax.annotate(txt, (x[i],y[i]))\n",
    "ax.set_title('Post: Epoch 1', **title_font)"
   ]
  },
  {
   "cell_type": "code",
   "execution_count": null,
   "metadata": {
    "collapsed": true
   },
   "outputs": [],
   "source": [
    "my_clusters = []\n",
    "\n",
    "num_epochs = 300\n",
    "rate = 1000\n",
    "for i in range(num_epochs):\n",
    "    ioffset = i * rate\n",
    "    Z_clust = linkage(Z_pre[ioffset:ioffset+rate,].T, 'complete', 'correlation')\n",
    "    \n",
    "    k = 4  # number of clusters\n",
    "    clusters = fcluster(Z_clust, k, criterion='maxclust')\n",
    "    \n",
    "    clusters2 = np.zeros(32)\n",
    "    j = 0\n",
    "    for i in range(32):\n",
    "        if i not in bad_channels:\n",
    "            clusters2[i] = clusters[j]\n",
    "            j += 1\n",
    "    my_clusters += [clusters2]"
   ]
  },
  {
   "cell_type": "code",
   "execution_count": null,
   "metadata": {
    "collapsed": true
   },
   "outputs": [],
   "source": [
    "# ch_labels = [i for i in range(1, 33)]\n",
    "# title_font = {'fontname':'DejaVu Sans', 'size':'16', 'color':'black', 'weight':'bold'}\n",
    "\n",
    "\n",
    "# for i, cluster in enumerate(my_clusters):\n",
    "#     fig, ax = plt.subplots(figsize=(10, 6))\n",
    "#     ax.grid(False)\n",
    "#     ax.set_xticks([])\n",
    "#     ax.set_yticks([])\n",
    "\n",
    "#     ss = [x*100 if x == 0  else 100 for x in clusters2 ]\n",
    "#     ax.scatter(x, y, c=cluster, s=ss, cmap=cmap)\n",
    "\n",
    "#     for j, txt in enumerate(ch_labels):\n",
    "#         ax.annotate(txt, (x[j],y[j]))\n",
    "     \n",
    "#     title = 'Epoch {}'.format(i+1)\n",
    "#     ax.set_title(title, **title_font)\n",
    "#     ax.invert_yaxis()\n",
    "    \n",
    "#     fname = 'figs/pre/pre_cluster_epoch_{}.png'.format(i+1)\n",
    "#     plt.savefig(fname, bbox_inches='tight')\n",
    "#     plt.close()"
   ]
  }
 ],
 "metadata": {
  "kernelspec": {
   "display_name": "Python 3",
   "language": "python",
   "name": "python3"
  },
  "language_info": {
   "codemirror_mode": {
    "name": "ipython",
    "version": 3
   },
   "file_extension": ".py",
   "mimetype": "text/x-python",
   "name": "python",
   "nbconvert_exporter": "python",
   "pygments_lexer": "ipython3",
   "version": "3.6.1"
  }
 },
 "nbformat": 4,
 "nbformat_minor": 2
}
